{
 "cells": [
  {
   "cell_type": "code",
   "execution_count": 229,
   "metadata": {},
   "outputs": [],
   "source": [
    "import glob"
   ]
  },
  {
   "cell_type": "code",
   "execution_count": 233,
   "metadata": {},
   "outputs": [
    {
     "data": {
      "text/plain": [
       "['.\\\\1614221312_admin_my.txt', '.\\\\1614221328_admin_my.txt']"
      ]
     },
     "execution_count": 233,
     "metadata": {},
     "output_type": "execute_result"
    }
   ],
   "source": [
    "\n",
    "output"
   ]
  },
  {
   "cell_type": "code",
   "execution_count": null,
   "metadata": {},
   "outputs": [],
   "source": []
  },
  {
   "cell_type": "code",
   "execution_count": null,
   "metadata": {},
   "outputs": [],
   "source": []
  },
  {
   "cell_type": "code",
   "execution_count": 237,
   "metadata": {},
   "outputs": [],
   "source": [
    "#!/usr/bin/env python\n",
    "\n",
    "# Copyright 2017 Google Inc. All Rights Reserved.\n",
    "#\n",
    "# Licensed under the Apache License, Version 2.0 (the \"License\");\n",
    "# you may not use this file except in compliance with the License.\n",
    "# You may obtain a copy of the License at\n",
    "#\n",
    "#      http://www.apache.org/licenses/LICENSE-2.0\n",
    "#\n",
    "# Unless required by applicable law or agreed to in writing, software\n",
    "# distributed under the License is distributed on an \"AS IS\" BASIS,\n",
    "# WITHOUT WARRANTIES OR CONDITIONS OF ANY KIND, either express or implied.\n",
    "# See the License for the specific language governing permissions and\n",
    "# limitations under the License.\n",
    "\n",
    "\"\"\"Google Cloud Speech API samplbbbe application using the streaming API.\n",
    "\n",
    "NOTE: This module requires the additional dependency `pyaudio`. To install\n",
    "using pip:\n",
    "\n",
    "    pip install pyaudio\n",
    "\n",
    "Example usage:\n",
    "    python transcribe_streaming_mic.py\n",
    "\"\"\"\n",
    "\n",
    "# [START speech_transcribe_streaming_mic]\n",
    "from __future__ import division\n",
    "\n",
    "import re\n",
    "import sys\n",
    "\n",
    "from google.cloud import speech\n",
    "\n",
    "import pyaudio\n",
    "from six.moves import queue\n",
    "import time\n",
    "import glob\n",
    "\n",
    "# Audio recording parameters\n",
    "RATE = 16000\n",
    "CHUNK = int(RATE / 10)  # 100ms\n",
    "\n",
    "\n",
    "class MicrophoneStream(object):\n",
    "    \"\"\"Opens a recording stream as a generator yielding the audio chunks.\"\"\"\n",
    "\n",
    "    def __init__(self, rate, chunk):\n",
    "        self._rate = rate\n",
    "        self._chunk = chunk\n",
    "\n",
    "        # Create a thread-safe buffer of audio data\n",
    "        self._buff = queue.Queue()\n",
    "        self.closed = True\n",
    "\n",
    "    def __enter__(self):\n",
    "        self._audio_interface = pyaudio.PyAudio()\n",
    "        self._audio_stream = self._audio_interface.open(\n",
    "            format=pyaudio.paInt16,\n",
    "            # The API currently only supports 1-channel (mono) audio\n",
    "            # https://goo.gl/z757pE\n",
    "            channels=1,\n",
    "            rate=self._rate,\n",
    "            input=True,\n",
    "            frames_per_buffer=self._chunk,\n",
    "            # Run the audio stream asynchronously to fill the buffer object.\n",
    "            # This is necessary so that the input device's buffer doesn't\n",
    "            # overflow while the calling thread makes network requests, etc.\n",
    "            stream_callback=self._fill_buffer,\n",
    "        )\n",
    "\n",
    "        self.closed = False\n",
    "\n",
    "        return self\n",
    "\n",
    "    def __exit__(self, type, value, traceback):\n",
    "        self._audio_stream.stop_stream()\n",
    "        self._audio_stream.close()\n",
    "        self.closed = True\n",
    "        # Signal the generator to terminate so that the client's\n",
    "        # streaming_recognize method will not block the process termination.\n",
    "        self._buff.put(None)\n",
    "        self._audio_interface.terminate()\n",
    "\n",
    "    def _fill_buffer(self, in_data, frame_count, time_info, status_flags):\n",
    "        \"\"\"Continuously collect data from the audio stream, into the buffer.\"\"\"\n",
    "        self._buff.put(in_data)\n",
    "        return None, pyaudio.paContinue\n",
    "\n",
    "    def generator(self):\n",
    "        while not self.closed:\n",
    "            # Use a blocking get() to ensure there's at least one chunk of\n",
    "            # data, and stop iteration if the chunk is None, indicating the\n",
    "            # end of the audio stream.\n",
    "            chunk = self._buff.get()\n",
    "            if chunk is None:\n",
    "                return\n",
    "            data = [chunk]\n",
    "\n",
    "            # Now consume whatever other data's still buffered.\n",
    "            while True:\n",
    "                try:\n",
    "                    chunk = self._buff.get(block=False)\n",
    "                    if chunk is None:\n",
    "                        return\n",
    "                    data.append(chunk)\n",
    "                except queue.Empty:\n",
    "                    break\n",
    "\n",
    "            yield b\"\".join(data)\n",
    "\n",
    "\n",
    "def listen_print_loop(responses,user_id):\n",
    "    \"\"\"Iterates through server responses and prints them.\n",
    "\n",
    "    The responses passed is a generator that will block until a response\n",
    "    is provided by the server.\n",
    "\n",
    "    Each response may contain multiple results, and each result may contain\n",
    "    multiple alternatives; for details, see https://goo.gl/tjCPAU.  Here we\n",
    "    print only the transcription for the top alternative of the top result.\n",
    "\n",
    "    In this case, responses are provided for interim results as well. If the\n",
    "    response is an interim one, print a line feed at the end of it, to allow\n",
    "    the next result to overwrite it, until the response is a final one. For the\n",
    "    final one, print a newline to preserve the finalized transcription.\n",
    "    \"\"\"\n",
    "    t = str(int(time.time()))\n",
    "    num_chars_printed = 0\n",
    "    for response in responses:\n",
    "        if not response.results:\n",
    "            continue\n",
    "\n",
    "        # The `results` list is consecutive. For streaming, we only care about\n",
    "        # the first result being considered, since once it's `is_final`, it\n",
    "        # moves on to considering the next utterance.\n",
    "        result = response.results[0]\n",
    "        if not result.alternatives:\n",
    "            continue\n",
    "\n",
    "        # Display the transcription of the top alternative.\n",
    "        transcript = result.alternatives[0].transcript\n",
    "\n",
    "        # Display interim results, but with a carriage return at the end of the\n",
    "        # line, so subsequent lines will overwrite them.\n",
    "        #\n",
    "        # If the previous result was longer than this one, we need to print\n",
    "        # some extra spaces to overwrite the previous result\n",
    "        overwrite_chars = \" \" * (num_chars_printed - len(transcript))\n",
    "\n",
    "        if not result.is_final:\n",
    "                \n",
    "            sys.stdout.write(transcript + overwrite_chars + \"\\r\")\n",
    "            sys.stdout.flush()\n",
    "\n",
    "            num_chars_printed = len(transcript)\n",
    "\n",
    "        else:\n",
    "            print(transcript + overwrite_chars)\n",
    "            \n",
    "            with open(\"./\"+t+\"_\"+user_id+\"_my.txt\",\"a\") as f :\n",
    "                f.writelines(transcript + overwrite_chars+\"\\n\")\n",
    "                \n",
    "            # Exit recognition if any of the transcribed phrases could be\n",
    "            # one of our keywords.\n",
    "            if re.search(r\"\\b(exit|quit)\\b\", transcript, re.I):\n",
    "                print(\"Exiting..\")\n",
    "                break\n",
    "\n",
    "            num_chars_printed = 0\n",
    "\n",
    "\n",
    "def main(user_id):\n",
    "    # See http://g.co/cloud/speech/docs/languages\n",
    "    # for a list of supported languages.\n",
    "    language_code = \"ko-KR\"  # a BCP-47 language tag\n",
    "\n",
    "    client = speech.SpeechClient()\n",
    "    config = speech.RecognitionConfig(\n",
    "        encoding=speech.RecognitionConfig.AudioEncoding.LINEAR16,\n",
    "        sample_rate_hertz=RATE,\n",
    "        language_code=language_code\n",
    "    )\n",
    "\n",
    "    streaming_config = speech.StreamingRecognitionConfig(\n",
    "        config=config, interim_results=True\n",
    "    )\n",
    "\n",
    "    global stream\n",
    "    with MicrophoneStream(RATE, CHUNK) as stream:\n",
    "        #print(\"step1\")\n",
    "        audio_generator = stream.generator()\n",
    "        \n",
    "        requests = (\n",
    "            speech.StreamingRecognizeRequest(audio_content=content)\n",
    "            for content in audio_generator\n",
    "        )\n",
    "        #print(\"step2\")\n",
    "        responses = client.streaming_recognize(streaming_config, requests)\n",
    "        #print(\"step3\")\n",
    "        print(stream.closed)\n",
    "        # stream.closed = True\n",
    "        print(stream.closed)\n",
    "        # Now, put the transcription responses to use.\n",
    "        listen_print_loop(responses,user_id)\n",
    "        #print(\"step4\")\n",
    "        # stream.closed = True\n",
    "\n",
    "# if __name__ == \"__main__\":\n",
    "#     main()\n",
    "# [END speech_transcribe_streaming_mic]\n"
   ]
  },
  {
   "cell_type": "code",
   "execution_count": 28,
   "metadata": {},
   "outputs": [
    {
     "name": "stdout",
     "output_type": "stream",
     "text": [
      "Requirement already satisfied: konlpy in c:\\users\\sm318\\appdata\\roaming\\python\\python38\\site-packages (0.5.2)\n",
      "Requirement already satisfied: colorama in c:\\programdata\\anaconda3\\lib\\site-packages (from konlpy) (0.4.4)\n",
      "Requirement already satisfied: numpy>=1.6 in c:\\programdata\\anaconda3\\lib\\site-packages (from konlpy) (1.19.2)\n",
      "Requirement already satisfied: beautifulsoup4==4.6.0 in c:\\users\\sm318\\appdata\\roaming\\python\\python38\\site-packages (from konlpy) (4.6.0)\n",
      "Requirement already satisfied: JPype1>=0.7.0 in c:\\programdata\\anaconda3\\lib\\site-packages (from konlpy) (1.2.0)\n",
      "Requirement already satisfied: lxml>=4.1.0 in c:\\programdata\\anaconda3\\lib\\site-packages (from konlpy) (4.6.1)\n",
      "Requirement already satisfied: tweepy>=3.7.0 in c:\\programdata\\anaconda3\\lib\\site-packages (from konlpy) (3.10.0)\n",
      "Requirement already satisfied: requests[socks]>=2.11.1 in c:\\programdata\\anaconda3\\lib\\site-packages (from tweepy>=3.7.0->konlpy) (2.24.0)\n",
      "Requirement already satisfied: requests-oauthlib>=0.7.0 in c:\\programdata\\anaconda3\\lib\\site-packages (from tweepy>=3.7.0->konlpy) (1.3.0)\n",
      "Requirement already satisfied: six>=1.10.0 in c:\\programdata\\anaconda3\\lib\\site-packages (from tweepy>=3.7.0->konlpy) (1.15.0)\n",
      "Requirement already satisfied: urllib3!=1.25.0,!=1.25.1,<1.26,>=1.21.1 in c:\\programdata\\anaconda3\\lib\\site-packages (from requests[socks]>=2.11.1->tweepy>=3.7.0->konlpy) (1.25.11)\n",
      "Requirement already satisfied: certifi>=2017.4.17 in c:\\programdata\\anaconda3\\lib\\site-packages (from requests[socks]>=2.11.1->tweepy>=3.7.0->konlpy) (2020.6.20)\n",
      "Requirement already satisfied: chardet<4,>=3.0.2 in c:\\programdata\\anaconda3\\lib\\site-packages (from requests[socks]>=2.11.1->tweepy>=3.7.0->konlpy) (3.0.4)\n",
      "Requirement already satisfied: idna<3,>=2.5 in c:\\programdata\\anaconda3\\lib\\site-packages (from requests[socks]>=2.11.1->tweepy>=3.7.0->konlpy) (2.10)\n",
      "Requirement already satisfied: PySocks!=1.5.7,>=1.5.6; extra == \"socks\" in c:\\programdata\\anaconda3\\lib\\site-packages (from requests[socks]>=2.11.1->tweepy>=3.7.0->konlpy) (1.7.1)\n",
      "Requirement already satisfied: oauthlib>=3.0.0 in c:\\programdata\\anaconda3\\lib\\site-packages (from requests-oauthlib>=0.7.0->tweepy>=3.7.0->konlpy) (3.1.0)\n"
     ]
    }
   ],
   "source": [
    "!pip install konlpy"
   ]
  },
  {
   "cell_type": "code",
   "execution_count": 29,
   "metadata": {},
   "outputs": [
    {
     "name": "stdout",
     "output_type": "stream",
     "text": [
      "Requirement already up-to-date: flask-cors in c:\\programdata\\anaconda3\\lib\\site-packages (3.0.10)\n",
      "Requirement already satisfied, skipping upgrade: Six in c:\\programdata\\anaconda3\\lib\\site-packages (from flask-cors) (1.15.0)\n",
      "Requirement already satisfied, skipping upgrade: Flask>=0.9 in c:\\programdata\\anaconda3\\lib\\site-packages (from flask-cors) (1.1.2)\n",
      "Requirement already satisfied, skipping upgrade: Jinja2>=2.10.1 in c:\\programdata\\anaconda3\\lib\\site-packages (from Flask>=0.9->flask-cors) (2.11.2)\n",
      "Requirement already satisfied, skipping upgrade: itsdangerous>=0.24 in c:\\programdata\\anaconda3\\lib\\site-packages (from Flask>=0.9->flask-cors) (1.1.0)\n",
      "Requirement already satisfied, skipping upgrade: click>=5.1 in c:\\programdata\\anaconda3\\lib\\site-packages (from Flask>=0.9->flask-cors) (7.1.2)\n",
      "Requirement already satisfied, skipping upgrade: Werkzeug>=0.15 in c:\\programdata\\anaconda3\\lib\\site-packages (from Flask>=0.9->flask-cors) (1.0.1)\n",
      "Requirement already satisfied, skipping upgrade: MarkupSafe>=0.23 in c:\\programdata\\anaconda3\\lib\\site-packages (from Jinja2>=2.10.1->Flask>=0.9->flask-cors) (1.1.1)\n"
     ]
    }
   ],
   "source": [
    "!pip install -U flask-cors"
   ]
  },
  {
   "cell_type": "code",
   "execution_count": null,
   "metadata": {
    "scrolled": true
   },
   "outputs": [
    {
     "name": "stdout",
     "output_type": "stream",
     "text": [
      " * Serving Flask app \"__main__\" (lazy loading)\n",
      " * Environment: production\n",
      "   WARNING: This is a development server. Do not use it in a production deployment.\n",
      "   Use a production WSGI server instead.\n",
      " * Debug mode: off\n"
     ]
    },
    {
     "name": "stderr",
     "output_type": "stream",
     "text": [
      " * Running on http://localhost:9000/ (Press CTRL+C to quit)\n"
     ]
    },
    {
     "name": "stdout",
     "output_type": "stream",
     "text": [
      "step1\n",
      "['음 저희는 스마트인재개발원에서 자바 기반 웹 서비스 개발자 과정을 교육 받은 교육생들입니다. \\n', '\\n', '저희 교육 과정에는 음 자바 프로그래밍, 데이터 베이스 실습, 파이썬을 활용하여 데이터 분석 및 시각화 등이 있었으며\\n', '\\n', \"이를 어 활용하여 자바 기반의 웹 서비스에 파이썬을 통한 데이터 분석을 융합하여 '또박또박'이라는 STT 분석 웹 서비스를 프로젝트로 개발하게 되었습니다.    \\n\", '\\n', '자바를 기초로 그니까 사용자 웹 서비스를 구축하고 막 파이썬을 통해 머신러닝과 막 데이터 분석을 산출했습니다. \\n']\n"
     ]
    },
    {
     "data": {
      "text/plain": [
       "[0, 2, 0, 1, 1, 0, 0, 2, 1]"
      ]
     },
     "metadata": {},
     "output_type": "display_data"
    },
    {
     "data": {
      "text/plain": [
       "[0, 2, 0, 9, 1, 0, 1, 1, 1]"
      ]
     },
     "metadata": {},
     "output_type": "display_data"
    },
    {
     "name": "stderr",
     "output_type": "stream",
     "text": [
      "127.0.0.1 - - [25/Feb/2021 12:15:51] \"\u001b[37mGET /txt?id=admin HTTP/1.1\u001b[0m\" 200 -\n"
     ]
    },
    {
     "name": "stdout",
     "output_type": "stream",
     "text": [
      "False\n",
      "False\n",
      "안녕하세요 저는 김건영입니다\n"
     ]
    },
    {
     "name": "stderr",
     "output_type": "stream",
     "text": [
      "127.0.0.1 - - [25/Feb/2021 12:33:30] \"\u001b[37mGET /end HTTP/1.1\u001b[0m\" 200 -\n",
      "127.0.0.1 - - [25/Feb/2021 12:33:30] \"\u001b[37mGET /user?id=admin HTTP/1.1\u001b[0m\" 200 -\n"
     ]
    },
    {
     "name": "stdout",
     "output_type": "stream",
     "text": [
      "False\n",
      "False\n",
      "안녕하세요 IOT 기반\r"
     ]
    },
    {
     "name": "stderr",
     "output_type": "stream",
     "text": [
      "127.0.0.1 - - [25/Feb/2021 12:35:12] \"\u001b[37mGET /end HTTP/1.1\u001b[0m\" 200 -\n"
     ]
    },
    {
     "name": "stdout",
     "output_type": "stream",
     "text": [
      "안녕하세요 IOT 기반 서비스\r"
     ]
    },
    {
     "name": "stderr",
     "output_type": "stream",
     "text": [
      "127.0.0.1 - - [25/Feb/2021 12:35:12] \"\u001b[37mGET /user?id=admin HTTP/1.1\u001b[0m\" 200 -\n"
     ]
    },
    {
     "name": "stdout",
     "output_type": "stream",
     "text": [
      "안녕하세요 IOT 기반 서비스\n",
      "step1\n",
      "['어 저희는 스마트인재개발원에서 어 자바 기반 웹 개발자 과정을 어 교육 받은 교육생들입니다. \\n', '\\n', '저희 교육 과정에는 막 자바 자바 프로그래밍 어 데이터 베이스 실습 어 파이썬을 활용하여 데이터 분석 및 시각화 등이 있었으며 이제 데이터\\n', '\\n', '이를 활용하여 자바 기반의 웹 서비스에 어 파이썬 아니 파이썬을 통한 데이터 분석을 융합하여 어 또박또박이라는 STT 분석 웹 서비스를 어 프로젝트로 개발하게 되었습니다.    \\n', '\\n', '그니까 자바 자바를 기초로 음 사용자 웹 서비스를 구축하고 어 파이썬을 통해 음 머신러닝과 데이터 분석을 산출했습니다. ']\n"
     ]
    },
    {
     "data": {
      "text/plain": [
       "[0, 2, 0, 9, 1, 0, 1, 1, 1]"
      ]
     },
     "metadata": {},
     "output_type": "display_data"
    },
    {
     "data": {
      "text/plain": [
       "[0, 2, 0, 1, 1, 0, 0, 2, 1]"
      ]
     },
     "metadata": {},
     "output_type": "display_data"
    },
    {
     "name": "stderr",
     "output_type": "stream",
     "text": [
      "127.0.0.1 - - [25/Feb/2021 12:37:22] \"\u001b[37mGET /txt?id=admin HTTP/1.1\u001b[0m\" 200 -\n",
      "127.0.0.1 - - [25/Feb/2021 14:19:18] \"\u001b[33mGET /txt_chbi?id=admin HTTP/1.1\u001b[0m\" 404 -\n",
      "127.0.0.1 - - [25/Feb/2021 14:19:18] \"\u001b[33mGET /txt_habit?id=admin HTTP/1.1\u001b[0m\" 404 -\n",
      "127.0.0.1 - - [25/Feb/2021 14:19:31] \"\u001b[33mGET /txt_chbi?id=admin HTTP/1.1\u001b[0m\" 404 -\n",
      "127.0.0.1 - - [25/Feb/2021 14:19:31] \"\u001b[33mGET /txt_habit?id=admin HTTP/1.1\u001b[0m\" 404 -\n"
     ]
    },
    {
     "name": "stdout",
     "output_type": "stream",
     "text": [
      "False\n",
      "False\n",
      "아 안녕하세요 안녕하세요 안녕하세요 안녕하세요\n"
     ]
    },
    {
     "name": "stderr",
     "output_type": "stream",
     "text": [
      "127.0.0.1 - - [25/Feb/2021 14:21:01] \"\u001b[37mGET /end HTTP/1.1\u001b[0m\" 200 -\n",
      "127.0.0.1 - - [25/Feb/2021 14:21:02] \"\u001b[37mGET /user?id=admin HTTP/1.1\u001b[0m\" 200 -\n"
     ]
    },
    {
     "name": "stdout",
     "output_type": "stream",
     "text": [
      "False\n",
      "False\n",
      "안녕하세요 안녕하세요\r"
     ]
    },
    {
     "name": "stderr",
     "output_type": "stream",
     "text": [
      "127.0.0.1 - - [25/Feb/2021 14:21:56] \"\u001b[37mGET /end HTTP/1.1\u001b[0m\" 200 -\n"
     ]
    },
    {
     "name": "stdout",
     "output_type": "stream",
     "text": [
      "안녕하세요 안녕하세요 안녕하세요\r"
     ]
    },
    {
     "name": "stderr",
     "output_type": "stream",
     "text": [
      "127.0.0.1 - - [25/Feb/2021 14:21:57] \"\u001b[37mGET /user?id=admin HTTP/1.1\u001b[0m\" 200 -\n"
     ]
    },
    {
     "name": "stdout",
     "output_type": "stream",
     "text": [
      "안녕하세요 안녕하세요 안녕하세요\n"
     ]
    },
    {
     "name": "stderr",
     "output_type": "stream",
     "text": [
      "127.0.0.1 - - [25/Feb/2021 14:22:30] \"\u001b[33mGET /txt_chbi?id=admin HTTP/1.1\u001b[0m\" 404 -\n",
      "127.0.0.1 - - [25/Feb/2021 14:22:30] \"\u001b[33mGET /txt_habit?id=admin HTTP/1.1\u001b[0m\" 404 -\n",
      "127.0.0.1 - - [25/Feb/2021 14:22:41] \"\u001b[33mGET /txt_chbi?id=admin HTTP/1.1\u001b[0m\" 404 -\n",
      "127.0.0.1 - - [25/Feb/2021 14:22:41] \"\u001b[33mGET /txt_habit?id=admin HTTP/1.1\u001b[0m\" 404 -\n",
      "127.0.0.1 - - [25/Feb/2021 14:26:40] \"\u001b[33mGET /txt_habit?id=admin HTTP/1.1\u001b[0m\" 404 -\n",
      "127.0.0.1 - - [25/Feb/2021 14:26:40] \"\u001b[33mGET /txt_habit?id=admin HTTP/1.1\u001b[0m\" 404 -\n",
      "127.0.0.1 - - [25/Feb/2021 14:26:40] \"\u001b[33mGET /txt_habit?id=admin HTTP/1.1\u001b[0m\" 404 -\n",
      "127.0.0.1 - - [25/Feb/2021 14:26:40] \"\u001b[33mGET /txt_habit?id=admin HTTP/1.1\u001b[0m\" 404 -\n",
      "127.0.0.1 - - [25/Feb/2021 14:27:51] \"\u001b[33mGET /txt_chbi?id=admin HTTP/1.1\u001b[0m\" 404 -\n",
      "127.0.0.1 - - [25/Feb/2021 14:27:51] \"\u001b[33mGET /txt_habit?id=admin HTTP/1.1\u001b[0m\" 404 -\n",
      "127.0.0.1 - - [25/Feb/2021 14:27:51] \"\u001b[33mGET /txt_chbi?id=admin HTTP/1.1\u001b[0m\" 404 -\n",
      "127.0.0.1 - - [25/Feb/2021 14:27:51] \"\u001b[33mGET /txt_habit?id=admin HTTP/1.1\u001b[0m\" 404 -\n",
      "127.0.0.1 - - [25/Feb/2021 14:27:51] \"\u001b[33mGET /txt_chbi?id=admin HTTP/1.1\u001b[0m\" 404 -\n",
      "127.0.0.1 - - [25/Feb/2021 14:27:51] \"\u001b[33mGET /txt_habit?id=admin HTTP/1.1\u001b[0m\" 404 -\n",
      "127.0.0.1 - - [25/Feb/2021 14:27:52] \"\u001b[33mGET /txt_chbi?id=admin HTTP/1.1\u001b[0m\" 404 -\n",
      "127.0.0.1 - - [25/Feb/2021 14:27:52] \"\u001b[33mGET /txt_habit?id=admin HTTP/1.1\u001b[0m\" 404 -\n",
      "127.0.0.1 - - [25/Feb/2021 14:27:52] \"\u001b[33mGET /txt_chbi?id=admin HTTP/1.1\u001b[0m\" 404 -\n",
      "127.0.0.1 - - [25/Feb/2021 14:27:52] \"\u001b[33mGET /txt_habit?id=admin HTTP/1.1\u001b[0m\" 404 -\n",
      "127.0.0.1 - - [25/Feb/2021 14:27:52] \"\u001b[33mGET /txt_chbi?id=admin HTTP/1.1\u001b[0m\" 404 -\n",
      "127.0.0.1 - - [25/Feb/2021 14:27:52] \"\u001b[33mGET /txt_habit?id=admin HTTP/1.1\u001b[0m\" 404 -\n",
      "127.0.0.1 - - [25/Feb/2021 14:27:52] \"\u001b[33mGET /txt_chbi?id=admin HTTP/1.1\u001b[0m\" 404 -\n",
      "127.0.0.1 - - [25/Feb/2021 14:27:52] \"\u001b[33mGET /txt_habit?id=admin HTTP/1.1\u001b[0m\" 404 -\n",
      "127.0.0.1 - - [25/Feb/2021 14:27:53] \"\u001b[33mGET /txt_chbi?id=admin HTTP/1.1\u001b[0m\" 404 -\n",
      "127.0.0.1 - - [25/Feb/2021 14:27:53] \"\u001b[33mGET /txt_habit?id=admin HTTP/1.1\u001b[0m\" 404 -\n",
      "127.0.0.1 - - [25/Feb/2021 14:27:53] \"\u001b[33mGET /txt_chbi?id=admin HTTP/1.1\u001b[0m\" 404 -\n",
      "127.0.0.1 - - [25/Feb/2021 14:27:53] \"\u001b[33mGET /txt_habit?id=admin HTTP/1.1\u001b[0m\" 404 -\n",
      "127.0.0.1 - - [25/Feb/2021 14:27:53] \"\u001b[33mGET /txt_chbi?id=admin HTTP/1.1\u001b[0m\" 404 -\n",
      "127.0.0.1 - - [25/Feb/2021 14:27:53] \"\u001b[33mGET /txt_chbi?id=admin HTTP/1.1\u001b[0m\" 404 -\n",
      "127.0.0.1 - - [25/Feb/2021 14:27:53] \"\u001b[33mGET /txt_habit?id=admin HTTP/1.1\u001b[0m\" 404 -\n",
      "127.0.0.1 - - [25/Feb/2021 14:27:53] \"\u001b[33mGET /txt_chbi?id=admin HTTP/1.1\u001b[0m\" 404 -\n",
      "127.0.0.1 - - [25/Feb/2021 14:27:53] \"\u001b[33mGET /txt_chbi?id=admin HTTP/1.1\u001b[0m\" 404 -\n",
      "127.0.0.1 - - [25/Feb/2021 14:27:53] \"\u001b[33mGET /txt_chbi?id=admin HTTP/1.1\u001b[0m\" 404 -\n",
      "127.0.0.1 - - [25/Feb/2021 14:27:53] \"\u001b[33mGET /txt_chbi?id=admin HTTP/1.1\u001b[0m\" 404 -\n",
      "127.0.0.1 - - [25/Feb/2021 14:27:53] \"\u001b[33mGET /txt_habit?id=admin HTTP/1.1\u001b[0m\" 404 -\n",
      "127.0.0.1 - - [25/Feb/2021 14:27:54] \"\u001b[33mGET /txt_chbi?id=admin HTTP/1.1\u001b[0m\" 404 -\n",
      "127.0.0.1 - - [25/Feb/2021 14:27:54] \"\u001b[33mGET /txt_chbi?id=admin HTTP/1.1\u001b[0m\" 404 -\n",
      "127.0.0.1 - - [25/Feb/2021 14:28:56] \"\u001b[33mGET /txt_chbi?id=admin HTTP/1.1\u001b[0m\" 404 -\n",
      "127.0.0.1 - - [25/Feb/2021 14:28:56] \"\u001b[33mGET /txt_habit?id=admin HTTP/1.1\u001b[0m\" 404 -\n",
      "127.0.0.1 - - [25/Feb/2021 14:29:01] \"\u001b[33mGET /txt_chbi?id=admin HTTP/1.1\u001b[0m\" 404 -\n",
      "127.0.0.1 - - [25/Feb/2021 14:29:02] \"\u001b[33mGET /txt_habit?id=admin HTTP/1.1\u001b[0m\" 404 -\n",
      "127.0.0.1 - - [25/Feb/2021 14:34:47] \"\u001b[31m\u001b[1mGET /txt?id1=admin HTTP/1.1\u001b[0m\" 400 -\n"
     ]
    },
    {
     "name": "stdout",
     "output_type": "stream",
     "text": [
      "step1\n"
     ]
    },
    {
     "name": "stderr",
     "output_type": "stream",
     "text": [
      "127.0.0.1 - - [25/Feb/2021 14:34:48] \"\u001b[31m\u001b[1mGET /txt?id1=admin HTTP/1.1\u001b[0m\" 400 -\n"
     ]
    },
    {
     "name": "stdout",
     "output_type": "stream",
     "text": [
      "step1\n"
     ]
    },
    {
     "name": "stderr",
     "output_type": "stream",
     "text": [
      "127.0.0.1 - - [25/Feb/2021 14:34:48] \"\u001b[31m\u001b[1mGET /txt?id1=admin HTTP/1.1\u001b[0m\" 400 -\n"
     ]
    },
    {
     "name": "stdout",
     "output_type": "stream",
     "text": [
      "step1\n"
     ]
    },
    {
     "name": "stderr",
     "output_type": "stream",
     "text": [
      "127.0.0.1 - - [25/Feb/2021 14:35:29] \"\u001b[33mGET /habit?id1=admin HTTP/1.1\u001b[0m\" 404 -\n",
      "127.0.0.1 - - [25/Feb/2021 14:35:30] \"\u001b[33mGET /habit?id1=admin HTTP/1.1\u001b[0m\" 404 -\n",
      "127.0.0.1 - - [25/Feb/2021 14:35:30] \"\u001b[33mGET /habit?id1=admin HTTP/1.1\u001b[0m\" 404 -\n",
      "127.0.0.1 - - [25/Feb/2021 14:43:25] \"\u001b[33mGET /habit?id=admin&type=2 HTTP/1.1\u001b[0m\" 404 -\n"
     ]
    },
    {
     "name": "stdout",
     "output_type": "stream",
     "text": [
      "step1\n",
      "['어 저희는 스마트인재개발원에서 어 자바 기반 웹 개발자 과정을 어 교육 받은 교육생들입니다. \\n', '\\n', '저희 교육 과정에는 막 자바 자바 프로그래밍 어 데이터 베이스 실습 어 파이썬을 활용하여 데이터 분석 및 시각화 등이 있었으며 이제 데이터\\n', '\\n', '이를 활용하여 자바 기반의 웹 서비스에 어 파이썬 아니 파이썬을 통한 데이터 분석을 융합하여 어 또박또박이라는 STT 분석 웹 서비스를 어 프로젝트로 개발하게 되었습니다.    \\n', '\\n', '그니까 자바 자바를 기초로 음 사용자 웹 서비스를 구축하고 어 파이썬을 통해 음 머신러닝과 데이터 분석을 산출했습니다. \\n', '\\n', '\\n', '\\n']\n"
     ]
    },
    {
     "data": {
      "text/plain": [
       "[0, 2, 0, 9, 1, 0, 1, 1, 1]"
      ]
     },
     "metadata": {},
     "output_type": "display_data"
    },
    {
     "data": {
      "text/plain": [
       "[0, 2, 0, 1, 1, 0, 0, 2, 1]"
      ]
     },
     "metadata": {},
     "output_type": "display_data"
    },
    {
     "name": "stderr",
     "output_type": "stream",
     "text": [
      "127.0.0.1 - - [25/Feb/2021 14:43:26] \"\u001b[37mGET /txt?id=admin&type=1 HTTP/1.1\u001b[0m\" 200 -\n",
      "127.0.0.1 - - [25/Feb/2021 14:44:24] \"\u001b[33mGET /habit?id=admin&type=2 HTTP/1.1\u001b[0m\" 404 -\n",
      "127.0.0.1 - - [25/Feb/2021 14:44:25] \"\u001b[33mGET /habit?id=admin&type=2 HTTP/1.1\u001b[0m\" 404 -\n",
      "127.0.0.1 - - [25/Feb/2021 14:44:25] \"\u001b[33mGET /habit?id=admin&type=2 HTTP/1.1\u001b[0m\" 404 -\n",
      "127.0.0.1 - - [25/Feb/2021 14:44:26] \"\u001b[33mGET /habit?id=admin&type=2 HTTP/1.1\u001b[0m\" 404 -\n",
      "127.0.0.1 - - [25/Feb/2021 14:44:27] \"\u001b[33mGET /habit?id=admin&type=2 HTTP/1.1\u001b[0m\" 404 -\n"
     ]
    },
    {
     "name": "stdout",
     "output_type": "stream",
     "text": [
      "step1\n",
      "step1\n",
      "['어 저희는 스마트인재개발원에서 어 자바 기반 웹 개발자 과정을 어 교육 받은 교육생들입니다. \\n', '\\n', '저희 교육 과정에는 막 자바 자바 프로그래밍 어 데이터 베이스 실습 어 파이썬을 활용하여 데이터 분석 및 시각화 등이 있었으며 이제 데이터\\n', '\\n', '이를 활용하여 자바 기반의 웹 서비스에 어 파이썬 아니 파이썬을 통한 데이터 분석을 융합하여 어 또박또박이라는 STT 분석 웹 서비스를 어 프로젝트로 개발하게 되었습니다.    \\n', '\\n', '그니까 자바 자바를 기초로 음 사용자 웹 서비스를 구축하고 어 파이썬을 통해 음 머신러닝과 데이터 분석을 산출했습니다. \\n', '\\n', '\\n', '\\n']\n",
      "['어 저희는 스마트인재개발원에서 어 자바 기반 웹 개발자 과정을 어 교육 받은 교육생들입니다. \\n', '\\n', '저희 교육 과정에는 막 자바 자바 프로그래밍 어 데이터 베이스 실습 어 파이썬을 활용하여 데이터 분석 및 시각화 등이 있었으며 이제 데이터\\n', '\\n', '이를 활용하여 자바 기반의 웹 서비스에 어 파이썬 아니 파이썬을 통한 데이터 분석을 융합하여 어 또박또박이라는 STT 분석 웹 서비스를 어 프로젝트로 개발하게 되었습니다.    \\n', '\\n', '그니까 자바 자바를 기초로 음 사용자 웹 서비스를 구축하고 어 파이썬을 통해 음 머신러닝과 데이터 분석을 산출했습니다. \\n', '\\n', '\\n', '\\n']\n"
     ]
    },
    {
     "data": {
      "text/plain": [
       "[0, 2, 0, 9, 1, 0, 1, 1, 1]"
      ]
     },
     "metadata": {},
     "output_type": "display_data"
    },
    {
     "data": {
      "text/plain": [
       "[0, 2, 0, 9, 1, 0, 1, 1, 1]"
      ]
     },
     "metadata": {},
     "output_type": "display_data"
    },
    {
     "data": {
      "text/plain": [
       "[0, 2, 0, 1, 1, 0, 0, 2, 1]"
      ]
     },
     "metadata": {},
     "output_type": "display_data"
    },
    {
     "data": {
      "text/plain": [
       "[0, 2, 0, 1, 1, 0, 0, 2, 1]"
      ]
     },
     "metadata": {},
     "output_type": "display_data"
    },
    {
     "name": "stderr",
     "output_type": "stream",
     "text": [
      "<ipython-input-239-4f7e906be12c>:176: MatplotlibDeprecationWarning: Adding an axes using the same arguments as a previous axes currently reuses the earlier instance.  In a future version, a new instance will always be created and returned.  Meanwhile, this warning can be suppressed, and the future behavior ensured, by passing a unique label to each axes instance.\n",
      "  p2 = plt.bar(x+0.2, Habitual_word_cnt2, width =0.3, color ='gray',align='center')\n",
      "[2021-02-25 14:45:09,363] ERROR in app: Exception on /txt [GET]\n",
      "Traceback (most recent call last):\n",
      "  File \"C:\\ProgramData\\Anaconda3\\lib\\site-packages\\flask\\app.py\", line 2447, in wsgi_app\n",
      "    response = self.full_dispatch_request()\n",
      "  File \"C:\\ProgramData\\Anaconda3\\lib\\site-packages\\flask\\app.py\", line 1952, in full_dispatch_request\n",
      "    rv = self.handle_user_exception(e)\n",
      "  File \"C:\\ProgramData\\Anaconda3\\lib\\site-packages\\flask_cors\\extension.py\", line 165, in wrapped_function\n",
      "    return cors_after_request(app.make_response(f(*args, **kwargs)))\n",
      "  File \"C:\\ProgramData\\Anaconda3\\lib\\site-packages\\flask\\app.py\", line 1821, in handle_user_exception\n",
      "    reraise(exc_type, exc_value, tb)\n",
      "  File \"C:\\ProgramData\\Anaconda3\\lib\\site-packages\\flask\\_compat.py\", line 39, in reraise\n",
      "    raise value\n",
      "  File \"C:\\ProgramData\\Anaconda3\\lib\\site-packages\\flask\\app.py\", line 1950, in full_dispatch_request\n",
      "    rv = self.dispatch_request()\n",
      "  File \"C:\\ProgramData\\Anaconda3\\lib\\site-packages\\flask\\app.py\", line 1936, in dispatch_request\n",
      "    return self.view_functions[rule.endpoint](**req.view_args)\n",
      "  File \"<ipython-input-239-4f7e906be12c>\", line 176, in txt\n",
      "    p2 = plt.bar(x+0.2, Habitual_word_cnt2, width =0.3, color ='gray',align='center')\n",
      "  File \"C:\\ProgramData\\Anaconda3\\lib\\site-packages\\matplotlib\\pyplot.py\", line 2487, in bar\n",
      "    return gca().bar(\n",
      "  File \"C:\\ProgramData\\Anaconda3\\lib\\site-packages\\matplotlib\\pyplot.py\", line 2368, in gca\n",
      "    return gcf().gca(**kwargs)\n",
      "  File \"C:\\ProgramData\\Anaconda3\\lib\\site-packages\\matplotlib\\figure.py\", line 2065, in gca\n",
      "    return self.add_subplot(1, 1, 1, **kwargs)\n",
      "  File \"C:\\ProgramData\\Anaconda3\\lib\\site-packages\\matplotlib\\figure.py\", line 1404, in add_subplot\n",
      "    return self._add_axes_internal(key, ax)\n",
      "  File \"C:\\ProgramData\\Anaconda3\\lib\\site-packages\\matplotlib\\figure.py\", line 1408, in _add_axes_internal\n",
      "    self._axstack.add(key, ax)\n",
      "  File \"C:\\ProgramData\\Anaconda3\\lib\\site-packages\\matplotlib\\figure.py\", line 125, in add\n",
      "    super().remove((key, a_existing))\n",
      "  File \"C:\\ProgramData\\Anaconda3\\lib\\site-packages\\matplotlib\\cbook\\__init__.py\", line 643, in remove\n",
      "    raise ValueError('Given element not contained in the stack')\n",
      "ValueError: Given element not contained in the stack\n",
      "127.0.0.1 - - [25/Feb/2021 14:45:09] \"\u001b[35m\u001b[1mGET /txt?id=admin&type=2 HTTP/1.1\u001b[0m\" 500 -\n",
      "127.0.0.1 - - [25/Feb/2021 14:45:09] \"\u001b[37mGET /txt?id=admin&type=1 HTTP/1.1\u001b[0m\" 200 -\n"
     ]
    },
    {
     "name": "stdout",
     "output_type": "stream",
     "text": [
      "step1\n",
      "['어 저희는 스마트인재개발원에서 어 자바 기반 웹 개발자 과정을 어 교육 받은 교육생들입니다. \\n', '\\n', '저희 교육 과정에는 막 자바 자바 프로그래밍 어 데이터 베이스 실습 어 파이썬을 활용하여 데이터 분석 및 시각화 등이 있었으며 이제 데이터\\n', '\\n', '이를 활용하여 자바 기반의 웹 서비스에 어 파이썬 아니 파이썬을 통한 데이터 분석을 융합하여 어 또박또박이라는 STT 분석 웹 서비스를 어 프로젝트로 개발하게 되었습니다.    \\n', '\\n', '그니까 자바 자바를 기초로 음 사용자 웹 서비스를 구축하고 어 파이썬을 통해 음 머신러닝과 데이터 분석을 산출했습니다. \\n', '\\n', '\\n', '\\n']\n"
     ]
    },
    {
     "data": {
      "text/plain": [
       "[0, 2, 0, 9, 1, 0, 1, 1, 1]"
      ]
     },
     "metadata": {},
     "output_type": "display_data"
    },
    {
     "data": {
      "text/plain": [
       "[0, 2, 0, 1, 1, 0, 0, 2, 1]"
      ]
     },
     "metadata": {},
     "output_type": "display_data"
    },
    {
     "name": "stderr",
     "output_type": "stream",
     "text": [
      "127.0.0.1 - - [25/Feb/2021 14:45:27] \"\u001b[37mGET /txt?id=admin&type=2 HTTP/1.1\u001b[0m\" 200 -\n"
     ]
    },
    {
     "name": "stdout",
     "output_type": "stream",
     "text": [
      "step1\n",
      "step1\n",
      "['어 저희는 스마트인재개발원에서 어 자바 기반 웹 개발자 과정을 어 교육 받은 교육생들입니다. \\n', '\\n', '저희 교육 과정에는 막 자바 자바 프로그래밍 어 데이터 베이스 실습 어 파이썬을 활용하여 데이터 분석 및 시각화 등이 있었으며 이제 데이터\\n', '\\n', '이를 활용하여 자바 기반의 웹 서비스에 어 파이썬 아니 파이썬을 통한 데이터 분석을 융합하여 어 또박또박이라는 STT 분석 웹 서비스를 어 프로젝트로 개발하게 되었습니다.    \\n', '\\n', '그니까 자바 자바를 기초로 음 사용자 웹 서비스를 구축하고 어 파이썬을 통해 음 머신러닝과 데이터 분석을 산출했습니다. \\n', '\\n', '\\n', '\\n']\n",
      "['어 저희는 스마트인재개발원에서 어 자바 기반 웹 개발자 과정을 어 교육 받은 교육생들입니다. \\n', '\\n', '저희 교육 과정에는 막 자바 자바 프로그래밍 어 데이터 베이스 실습 어 파이썬을 활용하여 데이터 분석 및 시각화 등이 있었으며 이제 데이터\\n', '\\n', '이를 활용하여 자바 기반의 웹 서비스에 어 파이썬 아니 파이썬을 통한 데이터 분석을 융합하여 어 또박또박이라는 STT 분석 웹 서비스를 어 프로젝트로 개발하게 되었습니다.    \\n', '\\n', '그니까 자바 자바를 기초로 음 사용자 웹 서비스를 구축하고 어 파이썬을 통해 음 머신러닝과 데이터 분석을 산출했습니다. \\n', '\\n', '\\n', '\\n']\n"
     ]
    },
    {
     "data": {
      "text/plain": [
       "[0, 2, 0, 9, 1, 0, 1, 1, 1]"
      ]
     },
     "metadata": {},
     "output_type": "display_data"
    },
    {
     "data": {
      "text/plain": [
       "[0, 2, 0, 9, 1, 0, 1, 1, 1]"
      ]
     },
     "metadata": {},
     "output_type": "display_data"
    },
    {
     "data": {
      "text/plain": [
       "[0, 2, 0, 1, 1, 0, 0, 2, 1]"
      ]
     },
     "metadata": {},
     "output_type": "display_data"
    },
    {
     "data": {
      "text/plain": [
       "[0, 2, 0, 1, 1, 0, 0, 2, 1]"
      ]
     },
     "metadata": {},
     "output_type": "display_data"
    },
    {
     "name": "stderr",
     "output_type": "stream",
     "text": [
      "<ipython-input-239-4f7e906be12c>:173: MatplotlibDeprecationWarning: Adding an axes using the same arguments as a previous axes currently reuses the earlier instance.  In a future version, a new instance will always be created and returned.  Meanwhile, this warning can be suppressed, and the future behavior ensured, by passing a unique label to each axes instance.\n",
      "  plt.ylim(0,15)\n",
      "[2021-02-25 14:47:34,476] ERROR in app: Exception on /txt [GET]\n",
      "Traceback (most recent call last):\n",
      "  File \"C:\\ProgramData\\Anaconda3\\lib\\site-packages\\flask\\app.py\", line 2447, in wsgi_app\n",
      "    response = self.full_dispatch_request()\n",
      "  File \"C:\\ProgramData\\Anaconda3\\lib\\site-packages\\flask\\app.py\", line 1952, in full_dispatch_request\n",
      "    rv = self.handle_user_exception(e)\n",
      "  File \"C:\\ProgramData\\Anaconda3\\lib\\site-packages\\flask_cors\\extension.py\", line 165, in wrapped_function\n",
      "    return cors_after_request(app.make_response(f(*args, **kwargs)))\n",
      "  File \"C:\\ProgramData\\Anaconda3\\lib\\site-packages\\flask\\app.py\", line 1821, in handle_user_exception\n",
      "    reraise(exc_type, exc_value, tb)\n",
      "  File \"C:\\ProgramData\\Anaconda3\\lib\\site-packages\\flask\\_compat.py\", line 39, in reraise\n",
      "    raise value\n",
      "  File \"C:\\ProgramData\\Anaconda3\\lib\\site-packages\\flask\\app.py\", line 1950, in full_dispatch_request\n",
      "    rv = self.dispatch_request()\n",
      "  File \"C:\\ProgramData\\Anaconda3\\lib\\site-packages\\flask\\app.py\", line 1936, in dispatch_request\n",
      "    return self.view_functions[rule.endpoint](**req.view_args)\n",
      "  File \"<ipython-input-239-4f7e906be12c>\", line 173, in txt\n",
      "    plt.ylim(0,15)\n",
      "  File \"C:\\ProgramData\\Anaconda3\\lib\\site-packages\\matplotlib\\pyplot.py\", line 1599, in ylim\n",
      "    ax = gca()\n",
      "  File \"C:\\ProgramData\\Anaconda3\\lib\\site-packages\\matplotlib\\pyplot.py\", line 2368, in gca\n",
      "    return gcf().gca(**kwargs)\n",
      "  File \"C:\\ProgramData\\Anaconda3\\lib\\site-packages\\matplotlib\\figure.py\", line 2065, in gca\n",
      "    return self.add_subplot(1, 1, 1, **kwargs)\n",
      "  File \"C:\\ProgramData\\Anaconda3\\lib\\site-packages\\matplotlib\\figure.py\", line 1404, in add_subplot\n",
      "    return self._add_axes_internal(key, ax)\n",
      "  File \"C:\\ProgramData\\Anaconda3\\lib\\site-packages\\matplotlib\\figure.py\", line 1408, in _add_axes_internal\n",
      "    self._axstack.add(key, ax)\n",
      "  File \"C:\\ProgramData\\Anaconda3\\lib\\site-packages\\matplotlib\\figure.py\", line 125, in add\n",
      "    super().remove((key, a_existing))\n",
      "  File \"C:\\ProgramData\\Anaconda3\\lib\\site-packages\\matplotlib\\cbook\\__init__.py\", line 643, in remove\n",
      "    raise ValueError('Given element not contained in the stack')\n",
      "ValueError: Given element not contained in the stack\n",
      "127.0.0.1 - - [25/Feb/2021 14:47:34] \"\u001b[35m\u001b[1mGET /txt?id=admin&type=2 HTTP/1.1\u001b[0m\" 500 -\n",
      "127.0.0.1 - - [25/Feb/2021 14:47:34] \"\u001b[37mGET /txt?id=admin&type=1 HTTP/1.1\u001b[0m\" 200 -\n"
     ]
    },
    {
     "name": "stdout",
     "output_type": "stream",
     "text": [
      "step1\n",
      "['어 저희는 스마트인재개발원에서 어 자바 기반 웹 개발자 과정을 어 교육 받은 교육생들입니다. \\n', '\\n', '저희 교육 과정에는 막 자바 자바 프로그래밍 어 데이터 베이스 실습 어 파이썬을 활용하여 데이터 분석 및 시각화 등이 있었으며 이제 데이터\\n', '\\n', '이를 활용하여 자바 기반의 웹 서비스에 어 파이썬 아니 파이썬을 통한 데이터 분석을 융합하여 어 또박또박이라는 STT 분석 웹 서비스를 어 프로젝트로 개발하게 되었습니다.    \\n', '\\n', '그니까 자바 자바를 기초로 음 사용자 웹 서비스를 구축하고 어 파이썬을 통해 음 머신러닝과 데이터 분석을 산출했습니다. \\n', '\\n', '\\n', '\\n']\n"
     ]
    },
    {
     "data": {
      "text/plain": [
       "[0, 2, 0, 9, 1, 0, 1, 1, 1]"
      ]
     },
     "metadata": {},
     "output_type": "display_data"
    },
    {
     "data": {
      "text/plain": [
       "[0, 2, 0, 1, 1, 0, 0, 2, 1]"
      ]
     },
     "metadata": {},
     "output_type": "display_data"
    },
    {
     "name": "stderr",
     "output_type": "stream",
     "text": [
      "127.0.0.1 - - [25/Feb/2021 14:47:54] \"\u001b[37mGET /txt?id=admin&type=2 HTTP/1.1\u001b[0m\" 200 -\n",
      "127.0.0.1 - - [25/Feb/2021 14:51:07] \"\u001b[33mGET /favicon.ico HTTP/1.1\u001b[0m\" 404 -\n",
      "127.0.0.1 - - [25/Feb/2021 14:51:34] \"\u001b[33mGET /t?id=admin&type=1 HTTP/1.1\u001b[0m\" 404 -\n",
      "127.0.0.1 - - [25/Feb/2021 14:52:11] \"\u001b[33mGET /t?id=admin&type=1 HTTP/1.1\u001b[0m\" 404 -\n",
      "127.0.0.1 - - [25/Feb/2021 14:52:15] \"\u001b[33mGET /t?id=admin&type=1 HTTP/1.1\u001b[0m\" 404 -\n",
      "127.0.0.1 - - [25/Feb/2021 14:52:52] \"\u001b[33mGET /t?id=admin&type=1 HTTP/1.1\u001b[0m\" 404 -\n",
      "127.0.0.1 - - [25/Feb/2021 14:53:46] \"\u001b[37mGET /end HTTP/1.1\u001b[0m\" 200 -\n",
      "127.0.0.1 - - [25/Feb/2021 14:54:59] \"\u001b[33mGET /call HTTP/1.1\u001b[0m\" 404 -\n",
      "127.0.0.1 - - [25/Feb/2021 14:54:59] \"\u001b[33mGET /favicon.ico HTTP/1.1\u001b[0m\" 404 -\n",
      "127.0.0.1 - - [25/Feb/2021 14:55:11] \"\u001b[33mGET /call HTTP/1.1\u001b[0m\" 404 -\n",
      "127.0.0.1 - - [25/Feb/2021 14:55:20] \"\u001b[33mGET /call HTTP/1.1\u001b[0m\" 404 -\n",
      "127.0.0.1 - - [25/Feb/2021 14:55:29] \"\u001b[31m\u001b[1mGET /txt HTTP/1.1\u001b[0m\" 400 -\n"
     ]
    },
    {
     "name": "stdout",
     "output_type": "stream",
     "text": [
      "step1\n"
     ]
    },
    {
     "name": "stderr",
     "output_type": "stream",
     "text": [
      "127.0.0.1 - - [25/Feb/2021 14:55:39] \"\u001b[31m\u001b[1mGET /txt HTTP/1.1\u001b[0m\" 400 -\n"
     ]
    },
    {
     "name": "stdout",
     "output_type": "stream",
     "text": [
      "step1\n"
     ]
    },
    {
     "name": "stderr",
     "output_type": "stream",
     "text": [
      "127.0.0.1 - - [25/Feb/2021 14:56:10] \"\u001b[31m\u001b[1mGET /txt?type=1 HTTP/1.1\u001b[0m\" 400 -\n"
     ]
    },
    {
     "name": "stdout",
     "output_type": "stream",
     "text": [
      "step1\n",
      "step1\n",
      "['어 저희는 스마트인재개발원에서 어 자바 기반 웹 개발자 과정을 어 교육 받은 교육생들입니다. \\n', '\\n', '저희 교육 과정에는 막 자바 자바 프로그래밍 어 데이터 베이스 실습 어 파이썬을 활용하여 데이터 분석 및 시각화 등이 있었으며 이제 데이터\\n', '\\n', '이를 활용하여 자바 기반의 웹 서비스에 어 파이썬 아니 파이썬을 통한 데이터 분석을 융합하여 어 또박또박이라는 STT 분석 웹 서비스를 어 프로젝트로 개발하게 되었습니다.    \\n', '\\n', '그니까 자바 자바를 기초로 음 사용자 웹 서비스를 구축하고 어 파이썬을 통해 음 머신러닝과 데이터 분석을 산출했습니다. \\n', '\\n', '\\n', '\\n']\n"
     ]
    },
    {
     "data": {
      "text/plain": [
       "[0, 2, 0, 9, 1, 0, 1, 1, 1]"
      ]
     },
     "metadata": {},
     "output_type": "display_data"
    },
    {
     "data": {
      "text/plain": [
       "[0, 2, 0, 1, 1, 0, 0, 2, 1]"
      ]
     },
     "metadata": {},
     "output_type": "display_data"
    },
    {
     "name": "stderr",
     "output_type": "stream",
     "text": [
      "127.0.0.1 - - [25/Feb/2021 15:02:02] \"\u001b[37mGET /txt?id=admin HTTP/1.1\u001b[0m\" 200 -\n",
      "127.0.0.1 - - [25/Feb/2021 15:02:31] \"\u001b[33mGET /txt_habit?id=admin HTTP/1.1\u001b[0m\" 404 -\n",
      "127.0.0.1 - - [25/Feb/2021 15:03:05] \"\u001b[33mGET /txthabit?id=admin HTTP/1.1\u001b[0m\" 404 -\n",
      "127.0.0.1 - - [25/Feb/2021 15:03:25] \"\u001b[33mGET /txthabit?id1=admin HTTP/1.1\u001b[0m\" 404 -\n",
      "127.0.0.1 - - [25/Feb/2021 15:03:32] \"\u001b[33mGET /txthabit?id1=admin HTTP/1.1\u001b[0m\" 404 -\n",
      "127.0.0.1 - - [25/Feb/2021 15:10:13] \"\u001b[33mGET /txtchbi?id=admin HTTP/1.1\u001b[0m\" 404 -\n",
      "127.0.0.1 - - [25/Feb/2021 15:10:13] \"\u001b[33mGET /txthabit?id1=admin HTTP/1.1\u001b[0m\" 404 -\n",
      "127.0.0.1 - - [25/Feb/2021 15:10:33] \"\u001b[33mGET /txthabit?id1=admin HTTP/1.1\u001b[0m\" 404 -\n",
      "127.0.0.1 - - [25/Feb/2021 15:10:34] \"\u001b[33mGET /txthabit?id1=admin HTTP/1.1\u001b[0m\" 404 -\n",
      "127.0.0.1 - - [25/Feb/2021 15:10:34] \"\u001b[33mGET /txthabit?id1=admin HTTP/1.1\u001b[0m\" 404 -\n",
      "127.0.0.1 - - [25/Feb/2021 15:10:34] \"\u001b[33mGET /txtchbi?id=admin HTTP/1.1\u001b[0m\" 404 -\n",
      "127.0.0.1 - - [25/Feb/2021 15:10:34] \"\u001b[33mGET /txthabit?id1=admin HTTP/1.1\u001b[0m\" 404 -\n",
      "127.0.0.1 - - [25/Feb/2021 15:10:34] \"\u001b[33mGET /txtchbi?id=admin HTTP/1.1\u001b[0m\" 404 -\n",
      "127.0.0.1 - - [25/Feb/2021 15:10:35] \"\u001b[33mGET /txthabit?id1=admin HTTP/1.1\u001b[0m\" 404 -\n",
      "127.0.0.1 - - [25/Feb/2021 15:10:35] \"\u001b[33mGET /txtchbi?id=admin HTTP/1.1\u001b[0m\" 404 -\n",
      "127.0.0.1 - - [25/Feb/2021 15:10:35] \"\u001b[33mGET /txthabit?id1=admin HTTP/1.1\u001b[0m\" 404 -\n",
      "127.0.0.1 - - [25/Feb/2021 15:10:35] \"\u001b[33mGET /txtchbi?id=admin HTTP/1.1\u001b[0m\" 404 -\n",
      "127.0.0.1 - - [25/Feb/2021 15:10:35] \"\u001b[33mGET /txthabit?id1=admin HTTP/1.1\u001b[0m\" 404 -\n",
      "127.0.0.1 - - [25/Feb/2021 15:10:35] \"\u001b[33mGET /txtchbi?id=admin HTTP/1.1\u001b[0m\" 404 -\n",
      "127.0.0.1 - - [25/Feb/2021 15:10:36] \"\u001b[33mGET /txthabit?id1=admin HTTP/1.1\u001b[0m\" 404 -\n",
      "127.0.0.1 - - [25/Feb/2021 15:10:36] \"\u001b[33mGET /txtchbi?id=admin HTTP/1.1\u001b[0m\" 404 -\n",
      "127.0.0.1 - - [25/Feb/2021 15:10:37] \"\u001b[33mGET /txthabit?id1=admin HTTP/1.1\u001b[0m\" 404 -\n",
      "127.0.0.1 - - [25/Feb/2021 15:10:37] \"\u001b[33mGET /txthabit?id1=admin HTTP/1.1\u001b[0m\" 404 -\n",
      "127.0.0.1 - - [25/Feb/2021 15:10:37] \"\u001b[33mGET /txthabit?id1=admin HTTP/1.1\u001b[0m\" 404 -\n",
      "127.0.0.1 - - [25/Feb/2021 15:10:37] \"\u001b[33mGET /txtchbi?id=admin HTTP/1.1\u001b[0m\" 404 -\n",
      "127.0.0.1 - - [25/Feb/2021 15:10:37] \"\u001b[33mGET /txthabit?id1=admin HTTP/1.1\u001b[0m\" 404 -\n",
      "127.0.0.1 - - [25/Feb/2021 15:10:37] \"\u001b[33mGET /txtchbi?id=admin HTTP/1.1\u001b[0m\" 404 -\n",
      "127.0.0.1 - - [25/Feb/2021 15:10:38] \"\u001b[33mGET /txthabit?id1=admin HTTP/1.1\u001b[0m\" 404 -\n",
      "127.0.0.1 - - [25/Feb/2021 15:10:38] \"\u001b[33mGET /txtchbi?id=admin HTTP/1.1\u001b[0m\" 404 -\n",
      "127.0.0.1 - - [25/Feb/2021 15:10:38] \"\u001b[33mGET /txthabit?id1=admin HTTP/1.1\u001b[0m\" 404 -\n",
      "127.0.0.1 - - [25/Feb/2021 15:10:38] \"\u001b[33mGET /txtchbi?id=admin HTTP/1.1\u001b[0m\" 404 -\n",
      "127.0.0.1 - - [25/Feb/2021 15:10:38] \"\u001b[33mGET /txthabit?id1=admin HTTP/1.1\u001b[0m\" 404 -\n",
      "127.0.0.1 - - [25/Feb/2021 15:10:38] \"\u001b[33mGET /txtchbi?id=admin HTTP/1.1\u001b[0m\" 404 -\n",
      "127.0.0.1 - - [25/Feb/2021 15:10:38] \"\u001b[33mGET /txthabit?id1=admin HTTP/1.1\u001b[0m\" 404 -\n",
      "127.0.0.1 - - [25/Feb/2021 15:10:38] \"\u001b[33mGET /txtchbi?id=admin HTTP/1.1\u001b[0m\" 404 -\n",
      "127.0.0.1 - - [25/Feb/2021 15:10:39] \"\u001b[33mGET /txthabit?id1=admin HTTP/1.1\u001b[0m\" 404 -\n",
      "127.0.0.1 - - [25/Feb/2021 15:10:39] \"\u001b[33mGET /txtchbi?id=admin HTTP/1.1\u001b[0m\" 404 -\n",
      "127.0.0.1 - - [25/Feb/2021 15:11:04] \"\u001b[33mGET /txthabit?id1=admin HTTP/1.1\u001b[0m\" 404 -\n",
      "127.0.0.1 - - [25/Feb/2021 15:11:04] \"\u001b[33mGET /txtchbi?id=admin HTTP/1.1\u001b[0m\" 404 -\n",
      "127.0.0.1 - - [25/Feb/2021 15:11:19] \"\u001b[33mGET /txthabit?id1=admin HTTP/1.1\u001b[0m\" 404 -\n",
      "127.0.0.1 - - [25/Feb/2021 15:11:19] \"\u001b[33mGET /txtchbi?id=admin HTTP/1.1\u001b[0m\" 404 -\n",
      "127.0.0.1 - - [25/Feb/2021 15:11:19] \"\u001b[33mGET /txthabit?id1=admin HTTP/1.1\u001b[0m\" 404 -\n",
      "127.0.0.1 - - [25/Feb/2021 15:11:19] \"\u001b[33mGET /txtchbi?id=admin HTTP/1.1\u001b[0m\" 404 -\n",
      "127.0.0.1 - - [25/Feb/2021 15:11:21] \"\u001b[33mGET /txthabit?id1=admin HTTP/1.1\u001b[0m\" 404 -\n",
      "127.0.0.1 - - [25/Feb/2021 15:11:21] \"\u001b[33mGET /txtchbi?id=admin HTTP/1.1\u001b[0m\" 404 -\n",
      "127.0.0.1 - - [25/Feb/2021 15:11:32] \"\u001b[33mGET /txthabit?id1=admin HTTP/1.1\u001b[0m\" 404 -\n",
      "127.0.0.1 - - [25/Feb/2021 15:11:32] \"\u001b[33mGET /txtchbi?id=admin HTTP/1.1\u001b[0m\" 404 -\n",
      "127.0.0.1 - - [25/Feb/2021 15:37:13] \"\u001b[33mGET /txthabit?id1=admin HTTP/1.1\u001b[0m\" 404 -\n",
      "127.0.0.1 - - [25/Feb/2021 15:37:13] \"\u001b[33mGET /txtchbi?id=admin HTTP/1.1\u001b[0m\" 404 -\n"
     ]
    },
    {
     "name": "stdout",
     "output_type": "stream",
     "text": [
      "False\n",
      "False\n",
      "테스트    \r"
     ]
    },
    {
     "name": "stderr",
     "output_type": "stream",
     "text": [
      "127.0.0.1 - - [25/Feb/2021 15:37:25] \"\u001b[37mGET /end HTTP/1.1\u001b[0m\" 200 -\n"
     ]
    },
    {
     "name": "stdout",
     "output_type": "stream",
     "text": [
      "테스트 원 파일입니다\n"
     ]
    },
    {
     "name": "stderr",
     "output_type": "stream",
     "text": [
      "127.0.0.1 - - [25/Feb/2021 15:37:26] \"\u001b[37mGET /user?id=admin HTTP/1.1\u001b[0m\" 200 -\n"
     ]
    },
    {
     "name": "stdout",
     "output_type": "stream",
     "text": [
      "False\n",
      "False\n",
      "테스트 2 파일입니다\r"
     ]
    },
    {
     "name": "stderr",
     "output_type": "stream",
     "text": [
      "127.0.0.1 - - [25/Feb/2021 15:37:31] \"\u001b[37mGET /end HTTP/1.1\u001b[0m\" 200 -\n",
      "127.0.0.1 - - [25/Feb/2021 15:37:31] \"\u001b[37mGET /user?id=admin HTTP/1.1\u001b[0m\" 200 -\n"
     ]
    },
    {
     "name": "stdout",
     "output_type": "stream",
     "text": [
      "테스트 파일입니다  \n"
     ]
    },
    {
     "name": "stderr",
     "output_type": "stream",
     "text": [
      "127.0.0.1 - - [25/Feb/2021 15:38:11] \"\u001b[33mGET /txthabit?id1=admin HTTP/1.1\u001b[0m\" 404 -\n",
      "127.0.0.1 - - [25/Feb/2021 15:38:11] \"\u001b[33mGET /txtchbi?id=admin HTTP/1.1\u001b[0m\" 404 -\n",
      "127.0.0.1 - - [25/Feb/2021 15:38:13] \"\u001b[33mGET /txthabit?id1=admin HTTP/1.1\u001b[0m\" 404 -\n",
      "127.0.0.1 - - [25/Feb/2021 15:38:13] \"\u001b[33mGET /txtchbi?id=admin HTTP/1.1\u001b[0m\" 404 -\n"
     ]
    },
    {
     "name": "stdout",
     "output_type": "stream",
     "text": [
      "False\n",
      "False\n",
      "이거 이거는 지금까지\r"
     ]
    },
    {
     "name": "stderr",
     "output_type": "stream",
     "text": [
      "127.0.0.1 - - [25/Feb/2021 16:19:13] \"\u001b[37mGET /end HTTP/1.1\u001b[0m\" 200 -\n"
     ]
    },
    {
     "name": "stdout",
     "output_type": "stream",
     "text": [
      "이거 이거는 지금 이거는\n"
     ]
    },
    {
     "name": "stderr",
     "output_type": "stream",
     "text": [
      "127.0.0.1 - - [25/Feb/2021 16:19:14] \"\u001b[37mGET /user?id=admin HTTP/1.1\u001b[0m\" 200 -\n"
     ]
    },
    {
     "name": "stdout",
     "output_type": "stream",
     "text": [
      "False\n",
      "False\n",
      "이게 바뀌면 이거 고정으로 그거라도 놀아야 되는데 마이크는 음성으로 들어 보인다\n"
     ]
    },
    {
     "name": "stderr",
     "output_type": "stream",
     "text": [
      "127.0.0.1 - - [25/Feb/2021 16:19:54] \"\u001b[37mGET /end HTTP/1.1\u001b[0m\" 200 -\n",
      "127.0.0.1 - - [25/Feb/2021 16:19:54] \"\u001b[37mGET /user?id=admin HTTP/1.1\u001b[0m\" 200 -\n"
     ]
    },
    {
     "name": "stdout",
     "output_type": "stream",
     "text": [
      "False\n",
      "False\n",
      "안녕하세요 저는 김건영입니다\n",
      " 이게 왜 안 되고 있네 근데 왜 클릭이 안 되지 왜 없어요 그냥 녹으면 되는데\n",
      " 이거는 되잖아 이게 클릭되는 모션이 나와야 되는데 이거 이렇게 안 나오지\r"
     ]
    },
    {
     "name": "stderr",
     "output_type": "stream",
     "text": [
      "127.0.0.1 - - [25/Feb/2021 16:21:28] \"\u001b[37mGET /end HTTP/1.1\u001b[0m\" 200 -\n",
      "127.0.0.1 - - [25/Feb/2021 16:21:29] \"\u001b[37mGET /user?id=admin HTTP/1.1\u001b[0m\" 200 -\n"
     ]
    },
    {
     "name": "stdout",
     "output_type": "stream",
     "text": [
      " 이거는 되잖아 이게 클릭되는 무선이 나와야 되는데 왜 이거 이렇게 안 나오지 확인 좀 해\n",
      "False\n",
      "False\n",
      "False\n",
      "False\n",
      "안녕 나는 김건영이고 오늘 수업 있을 것 같다 가정 안녕하세요 \n",
      "안녕 나는 김건영이고 IOT 기반 서비스 개발자 과정 안녕하세요\n",
      " 아 진짜\n",
      " 여기 찍어 줘요\n",
      "여기 찍어 줘요\n",
      "안 나오네 이거 이미지 못 되나 들어가는 거 안 나오네 이거 이미지 못 되나 들어가는 거\n",
      "\n",
      " 그게 좀 그런 거 다 대답하면 돼 \n",
      " 그거 좀 그런 거 다 들어가면 돼 집에서\n",
      " 왜 잠 안 오면 되는 거 같은데 안 되잖아\n",
      " 노래 자막 넣으면 되는 거 같은데\n",
      " 안 되는데\n",
      " 내려가는 중\n",
      " 프로에서 내려가는 중\n",
      " 오늘 저녁 저녁 시간 많이 만들어 놔야지 따로 따로 그거만 누르면 돼\n",
      " 오늘 저녁 저녁 시간 많이 만들어 놔야지 따로 따로 그거만 녹음을 했는데도 계속 나와요\n",
      " 했는데도 계속 나와요\n",
      " 근데 왜 나와\n",
      " 그거 아니야 지워야 되는데 이거\n",
      " 그거 아니야 지워야 되는데\n",
      " 인터넷 사용 기록 지워\n",
      " 아 몰라\n",
      " 아 몰라\n"
     ]
    },
    {
     "name": "stderr",
     "output_type": "stream",
     "text": [
      "[2021-02-25 16:26:35,105] ERROR in app: Exception on /user [GET]\n",
      "Traceback (most recent call last):\n",
      "  File \"C:\\ProgramData\\Anaconda3\\lib\\site-packages\\google\\api_core\\grpc_helpers.py\", line 113, in next\n",
      "    return six.next(self._wrapped)\n",
      "  File \"C:\\ProgramData\\Anaconda3\\lib\\site-packages\\grpc\\_channel.py\", line 416, in __next__\n",
      "    return self._next()\n",
      "  File \"C:\\ProgramData\\Anaconda3\\lib\\site-packages\\grpc\\_channel.py\", line 803, in _next\n",
      "    raise self\n",
      "grpc._channel._MultiThreadedRendezvous: <_MultiThreadedRendezvous of RPC that terminated with:\n",
      "\tstatus = StatusCode.OUT_OF_RANGE\n",
      "\tdetails = \"Exceeded maximum allowed stream duration of 305 seconds.\"\n",
      "\tdebug_error_string = \"{\"created\":\"@1614237995.053000000\",\"description\":\"Error received from peer ipv4:216.58.197.234:443\",\"file\":\"src/core/lib/surface/call.cc\",\"file_line\":1068,\"grpc_message\":\"Exceeded maximum allowed stream duration of 305 seconds.\",\"grpc_status\":11}\"\n",
      ">\n",
      "\n",
      "The above exception was the direct cause of the following exception:\n",
      "\n",
      "Traceback (most recent call last):\n",
      "  File \"C:\\ProgramData\\Anaconda3\\lib\\site-packages\\flask\\app.py\", line 2447, in wsgi_app\n",
      "    response = self.full_dispatch_request()\n",
      "  File \"C:\\ProgramData\\Anaconda3\\lib\\site-packages\\flask\\app.py\", line 1952, in full_dispatch_request\n",
      "    rv = self.handle_user_exception(e)\n",
      "  File \"C:\\ProgramData\\Anaconda3\\lib\\site-packages\\flask_cors\\extension.py\", line 165, in wrapped_function\n",
      "    return cors_after_request(app.make_response(f(*args, **kwargs)))\n",
      "  File \"C:\\ProgramData\\Anaconda3\\lib\\site-packages\\flask\\app.py\", line 1821, in handle_user_exception\n",
      "    reraise(exc_type, exc_value, tb)\n",
      "  File \"C:\\ProgramData\\Anaconda3\\lib\\site-packages\\flask\\_compat.py\", line 39, in reraise\n",
      "    raise value\n",
      "  File \"C:\\ProgramData\\Anaconda3\\lib\\site-packages\\flask\\app.py\", line 1950, in full_dispatch_request\n",
      "    rv = self.dispatch_request()\n",
      "  File \"C:\\ProgramData\\Anaconda3\\lib\\site-packages\\flask\\app.py\", line 1936, in dispatch_request\n",
      "    return self.view_functions[rule.endpoint](**req.view_args)\n",
      "  File \"<ipython-input-239-4f7e906be12c>\", line 17, in user\n",
      "    main(user_id)\n",
      "  File \"<ipython-input-237-b8b05e685444>\", line 206, in main\n",
      "    listen_print_loop(responses,user_id)\n",
      "  File \"<ipython-input-237-b8b05e685444>\", line 131, in listen_print_loop\n",
      "    for response in responses:\n",
      "  File \"C:\\ProgramData\\Anaconda3\\lib\\site-packages\\google\\api_core\\grpc_helpers.py\", line 116, in next\n",
      "    six.raise_from(exceptions.from_grpc_error(exc), exc)\n",
      "  File \"<string>\", line 3, in raise_from\n",
      "google.api_core.exceptions.OutOfRange: 400 Exceeded maximum allowed stream duration of 305 seconds.\n",
      "127.0.0.1 - - [25/Feb/2021 16:26:35] \"\u001b[35m\u001b[1mGET /user?id=admin HTTP/1.1\u001b[0m\" 500 -\n",
      "[2021-02-25 16:26:44,690] ERROR in app: Exception on /user [GET]\n",
      "Traceback (most recent call last):\n",
      "  File \"C:\\ProgramData\\Anaconda3\\lib\\site-packages\\google\\api_core\\grpc_helpers.py\", line 113, in next\n",
      "    return six.next(self._wrapped)\n",
      "  File \"C:\\ProgramData\\Anaconda3\\lib\\site-packages\\grpc\\_channel.py\", line 416, in __next__\n",
      "    return self._next()\n",
      "  File \"C:\\ProgramData\\Anaconda3\\lib\\site-packages\\grpc\\_channel.py\", line 803, in _next\n",
      "    raise self\n",
      "grpc._channel._MultiThreadedRendezvous: <_MultiThreadedRendezvous of RPC that terminated with:\n",
      "\tstatus = StatusCode.OUT_OF_RANGE\n",
      "\tdetails = \"Exceeded maximum allowed stream duration of 305 seconds.\"\n",
      "\tdebug_error_string = \"{\"created\":\"@1614238004.635000000\",\"description\":\"Error received from peer ipv4:216.58.197.234:443\",\"file\":\"src/core/lib/surface/call.cc\",\"file_line\":1068,\"grpc_message\":\"Exceeded maximum allowed stream duration of 305 seconds.\",\"grpc_status\":11}\"\n",
      ">\n",
      "\n",
      "The above exception was the direct cause of the following exception:\n",
      "\n",
      "Traceback (most recent call last):\n",
      "  File \"C:\\ProgramData\\Anaconda3\\lib\\site-packages\\flask\\app.py\", line 2447, in wsgi_app\n",
      "    response = self.full_dispatch_request()\n",
      "  File \"C:\\ProgramData\\Anaconda3\\lib\\site-packages\\flask\\app.py\", line 1952, in full_dispatch_request\n",
      "    rv = self.handle_user_exception(e)\n",
      "  File \"C:\\ProgramData\\Anaconda3\\lib\\site-packages\\flask_cors\\extension.py\", line 165, in wrapped_function\n",
      "    return cors_after_request(app.make_response(f(*args, **kwargs)))\n",
      "  File \"C:\\ProgramData\\Anaconda3\\lib\\site-packages\\flask\\app.py\", line 1821, in handle_user_exception\n",
      "    reraise(exc_type, exc_value, tb)\n",
      "  File \"C:\\ProgramData\\Anaconda3\\lib\\site-packages\\flask\\_compat.py\", line 39, in reraise\n",
      "    raise value\n",
      "  File \"C:\\ProgramData\\Anaconda3\\lib\\site-packages\\flask\\app.py\", line 1950, in full_dispatch_request\n",
      "    rv = self.dispatch_request()\n",
      "  File \"C:\\ProgramData\\Anaconda3\\lib\\site-packages\\flask\\app.py\", line 1936, in dispatch_request\n",
      "    return self.view_functions[rule.endpoint](**req.view_args)\n",
      "  File \"<ipython-input-239-4f7e906be12c>\", line 17, in user\n",
      "    main(user_id)\n",
      "  File \"<ipython-input-237-b8b05e685444>\", line 206, in main\n",
      "    listen_print_loop(responses,user_id)\n",
      "  File \"<ipython-input-237-b8b05e685444>\", line 131, in listen_print_loop\n",
      "    for response in responses:\n",
      "  File \"C:\\ProgramData\\Anaconda3\\lib\\site-packages\\google\\api_core\\grpc_helpers.py\", line 116, in next\n",
      "    six.raise_from(exceptions.from_grpc_error(exc), exc)\n",
      "  File \"<string>\", line 3, in raise_from\n",
      "google.api_core.exceptions.OutOfRange: 400 Exceeded maximum allowed stream duration of 305 seconds.\n",
      "127.0.0.1 - - [25/Feb/2021 16:26:44] \"\u001b[35m\u001b[1mGET /user?id=admin HTTP/1.1\u001b[0m\" 500 -\n"
     ]
    }
   ],
   "source": [
    "from flask import Flask,redirect,request,Response,send_file\n",
    "from flask_cors import CORS\n",
    "import pandas as pd\n",
    "import numpy as np\n",
    "import matplotlib.pyplot as plt\n",
    "from konlpy.tag import Okt\n",
    "import csv\n",
    "\n",
    "okt = Okt()\n",
    "\n",
    "app = Flask(__name__)\n",
    "CORS(app)\n",
    "\n",
    "@app.route('/user')\n",
    "def user():\n",
    "    user_id = request.args['id']\n",
    "    main(user_id)\n",
    "    # 이부분이 중단되었을때 코드를 작성하면 되겠죠\n",
    "    \n",
    "    return 'Hello, User!'\n",
    "\n",
    "@app.route('/end')\n",
    "def end():\n",
    "    stream.closed = True\n",
    "    return 'end'\n",
    "\n",
    "@app.route('/txt')\n",
    "def txt():\n",
    "    print('step1')\n",
    "    \n",
    "    user_id = request.args['id']\n",
    "    \n",
    "    output = glob.glob('./*'+user_id+'_my.txt')\n",
    "    output = sorted(output)\n",
    "    \n",
    "    f1 = open(output[-1],'r',encoding='euc-kr')\n",
    "    txt = f1.readlines()\n",
    "    f1.close()\n",
    "    print(txt)\n",
    "    morph_list = []\n",
    "    for i in txt :\n",
    "        morphs = okt.morphs(i)\n",
    "        for morph in morphs:\n",
    "            morph_list.append(morph)\n",
    "        \n",
    "    def counter(morph_list):\n",
    "        word_count = {}\n",
    "        for word in morph_list:\n",
    "            if word in word_count :\n",
    "                word_count[word] += 1\n",
    "            else :\n",
    "                word_count[word] = 1\n",
    "        return word_count\n",
    "\n",
    "    word_count = counter(morph_list)\n",
    "    \n",
    "    # 정렬\n",
    "    word_count = sorted(word_count.items(), key = lambda x:x[1], reverse=True)\n",
    "    fields = ['습관어' , '횟수']\n",
    "    rows = word_count\n",
    "    \n",
    "    with open(r'test1.csv', 'w', newline='\\n') as f:\n",
    "        write = csv.writer(f)\n",
    "        write.writerow(fields)\n",
    "        write.writerows(rows)\n",
    "        \n",
    "    test_all_word = pd.read_csv('./test1.csv', encoding='euc-kr')\n",
    "    \n",
    "    data1 = morph_list\n",
    "    cnt = [0, 0, 0, 0, 0, 0, 0, 0, 0]\n",
    "    morph_list\n",
    "\n",
    "    for item in data1:\n",
    "        if item =='아':\n",
    "            cnt[0] = cnt[0] +1\n",
    "        elif item == '음':\n",
    "            cnt[1] = cnt[1] +1\n",
    "        elif item == '그':\n",
    "            cnt[2] = cnt[2] +1\n",
    "        elif item == '어':  \n",
    "            cnt[3] = cnt[3]+1\n",
    "        elif item == '그니까':\n",
    "            cnt[4] = cnt[4] +1\n",
    "        elif item == '저':\n",
    "            cnt[5] = cnt[5] +1\n",
    "        elif item == '이제':\n",
    "            cnt[6] = cnt[6] +1\n",
    "        elif item == '막':\n",
    "            cnt[7] = cnt[7] +1\n",
    "        elif item == '에':\n",
    "            cnt[8] = cnt[8] +1\n",
    "            \n",
    "    # 습관어 list\n",
    "    Habitual_word = ['아','음','그','어','그니까','저','이제','막','에']\n",
    "    \n",
    "    # 최근 회차 text 결과\n",
    "    Habitual_word_cnt = cnt\n",
    "    display(Habitual_word_cnt)\n",
    "    x = np.arange(len(Habitual_word))\n",
    "    \n",
    "    \n",
    "    f2 = open(output[-2],'r',encoding='euc-kr')\n",
    "    txt2 = f2.readlines()\n",
    "    f2.close()\n",
    "    \n",
    "    morph_list2 = []\n",
    "    for i in txt2 :\n",
    "        morphs = okt.morphs(i)\n",
    "        for morph in morphs:\n",
    "            morph_list2.append(morph)\n",
    "    \n",
    "    \n",
    "    def counter(morph_list2):\n",
    "        word_count2 = {}\n",
    "        for word in morph_list2:\n",
    "            if word in word_count2 :\n",
    "                word_count2[word] += 1\n",
    "            else :\n",
    "                word_count2[word] = 1\n",
    "        return word_count2\n",
    "\n",
    "    word_count2 = counter(morph_list2)\n",
    "    \n",
    "    # 정렬\n",
    "    word_count2 = sorted(word_count2.items(), key = lambda x:x[1], reverse=True)\n",
    "    \n",
    "    fields = ['습관어' , '횟수']\n",
    "    rows = word_count2\n",
    "    \n",
    "    with open(r'test2.csv', 'w', newline='\\n') as f:\n",
    "        write = csv.writer(f)\n",
    "        write.writerow(fields)\n",
    "        write.writerows(rows)\n",
    "        \n",
    "    test_all_word2 = pd.read_csv('./test2.csv', encoding='euc-kr')\n",
    "    \n",
    "    data2 = morph_list2\n",
    "    cnt2 = [0, 0, 0, 0, 0, 0, 0, 0, 0]\n",
    "    \n",
    "    \n",
    "    for item in data2:\n",
    "        if item =='아':\n",
    "            cnt2[0] = cnt2[0] +1\n",
    "        elif item == '음':\n",
    "            cnt2[1] = cnt2[1] +1\n",
    "        elif item == '그':\n",
    "            cnt2[2] = cnt2[2] +1\n",
    "        elif item == '어':  \n",
    "            cnt2[3] = cnt2[3]+1\n",
    "        elif item == '그니까':\n",
    "            cnt2[4] = cnt2[4] +1\n",
    "        elif item == '저':\n",
    "            cnt2[5] = cnt2[5] +1\n",
    "        elif item == '이제':\n",
    "            cnt2[6] = cnt2[6] +1\n",
    "        elif item == '막':\n",
    "            cnt2[7] = cnt2[7] +1\n",
    "        elif item == '에':\n",
    "            cnt2[8] = cnt2[8] +1\n",
    "    \n",
    "    # 습관어 list\n",
    "    Habitual_word = ['아','음','그','어','그니까','저','이제','막','에']\n",
    "\n",
    "    # 최근 회차 text 결과\n",
    "    Habitual_word_cnt2 = cnt2\n",
    "    display(Habitual_word_cnt2)\n",
    "    x = np.arange(len(Habitual_word))\n",
    "    \n",
    "    \n",
    "    plt.figure(figsize=(10,5))\n",
    "    plt.rc('font', family='Malgun Gothic')\n",
    "    plt.xlim(-1,9)\n",
    "    plt.ylim(0,15)\n",
    "    p1 = plt.bar(x-0.1, Habitual_word_cnt, width =0.3, color ='yellow',align='center')\n",
    "    #Habitual_word_cnt2 = [2,3,4,2,5,4,2,3,5]\n",
    "    p2 = plt.bar(x+0.2, Habitual_word_cnt2, width =0.3, color ='gray',align='center')\n",
    "    plt.legend((p1[0],p2[0]),('현재결과','직전결과'))\n",
    "\n",
    "    plt.title('습관어 빈도수 분석결과', fontsize = 20)\n",
    "    plt.xlabel('<습관어 종류>', fontsize = 14)\n",
    "    plt.ylabel('<빈도수>', fontsize = 14)\n",
    "    plt.rc('xtick', labelsize = 12)\n",
    "    plt.rc('ytick', labelsize = 12)\n",
    "    #plt.rcParams['figure.figuresize'] = (10,4)\n",
    "    plt.grid(axis='y', linestyle='--', alpha = 0.5)\n",
    "    plt.xticks(x, Habitual_word, fontsize=8)\n",
    "\n",
    "    for i, v in enumerate(x):\n",
    "        aa = \"{:,}회    \".format(Habitual_word_cnt[i])\n",
    "        plt.text(v,Habitual_word_cnt[i],aa,fontsize=9,color='#997000',\n",
    "                  horizontalalignment='center',verticalalignment='bottom')\n",
    "\n",
    "    for i, v in enumerate(x):\n",
    "        aa = \"       {:,}회\".format(Habitual_word_cnt2[i])\n",
    "        plt.text(v,Habitual_word_cnt2[i],aa,fontsize=9,color='black',\n",
    "                  horizontalalignment='center',verticalalignment='bottom')   \n",
    "\n",
    "\n",
    "    plt.savefig('./습관어의 종류와 빈도수_비교.png',bbox_inches='tight')\n",
    "    \n",
    "    \n",
    "    return send_file('./습관어의 종류와 빈도수_비교.png')\n",
    "\n",
    "if __name__ == '__main__':\n",
    "    app.run(host=\"localhost\",port=\"9000\")"
   ]
  },
  {
   "cell_type": "code",
   "execution_count": null,
   "metadata": {},
   "outputs": [],
   "source": []
  }
 ],
 "metadata": {
  "kernelspec": {
   "display_name": "Python 3",
   "language": "python",
   "name": "python3"
  },
  "language_info": {
   "codemirror_mode": {
    "name": "ipython",
    "version": 3
   },
   "file_extension": ".py",
   "mimetype": "text/x-python",
   "name": "python",
   "nbconvert_exporter": "python",
   "pygments_lexer": "ipython3",
   "version": "3.8.5"
  }
 },
 "nbformat": 4,
 "nbformat_minor": 4
}
